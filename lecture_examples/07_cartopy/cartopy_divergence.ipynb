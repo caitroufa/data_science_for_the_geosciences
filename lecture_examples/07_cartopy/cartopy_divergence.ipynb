{
 "cells": [
  {
   "cell_type": "markdown",
   "id": "0057cb62-5441-4730-b03f-e95f2fcf4fd9",
   "metadata": {},
   "source": [
    "# Horizontal Wind Divergence Tutorial\n",
    "*Created by Cait Roufa for NIU Data Science in the Geosciences - 2025*\n",
    "\n",
    "This tutorial uses Catopy to plot wind barbs and horizontal wind divergence calculated from ERA5 data of u and v winds at any chosen pressure level."
   ]
  },
  {
   "cell_type": "code",
   "execution_count": null,
   "id": "89f11aad-fb42-4433-b7b7-bcebbcab7054",
   "metadata": {},
   "outputs": [],
   "source": [
    "# import packages for xarray, metpy calculations, and cartopy and matplotlib for plotting\n",
    "\n",
    "import xarray as xr\n",
    "import numpy as np\n",
    "import metpy.calc as mpcalc\n",
    "import matplotlib.pyplot as plt\n",
    "from matplotlib import colors\n",
    "import cartopy as cp\n",
    "import cartopy.crs as ccrs"
   ]
  },
  {
   "cell_type": "markdown",
   "id": "626897ec-3e2d-4ec0-ad64-a1e86af74ac3",
   "metadata": {},
   "source": [
    "### Find and Import Data\n",
    "Data for this tutorial comes from ERA5 U and V winds on vertical pressure levels: https://cds.climate.copernicus.eu/datasets/reanalysis-era5-pressure-levels?tab=overview. Divergence data is available; however, we want to try to calculate this for fun. 6-hourly u and v wind data were downloaded for a full year (2023) for an existing project. We recommend, just downloading a single timestep (1 date at one hour) due to file sizes and download times."
   ]
  },
  {
   "cell_type": "code",
   "execution_count": null,
   "id": "c22eb5b5-e75b-40e9-b186-c14d662491ec",
   "metadata": {},
   "outputs": [],
   "source": [
    "# import u and v wind ERA5 data using xarray\n",
    "\n",
    "ds_u = xr.open_dataset('/home/scratch/croufa/era5/era5.2023.u.nc')\n",
    "ds_v = xr.open_dataset('/home/scratch/croufa/era5/era5.2023.v.nc')\n",
    "\n",
    "# print out each dataset to ensure that they contain the information you expect\n",
    "ds_u"
   ]
  },
  {
   "cell_type": "markdown",
   "id": "3ca935f9-e27f-4ef9-817c-be2500eee599",
   "metadata": {},
   "source": [
    "### Select Data\n",
    "If you did not download a single timestep and you have a much larger dataset, you will need to select a single time as shown here, or you can do a mean over the time dimension if you would like to plot a climatological or other period mean. The .sel() function allows you to select values in the dataset by some chosen dimension.\n",
    "\n",
    "We use the same .sel() function to select a single pressure level to plot. If the level is set with a specific variable, it can be used in titles later without having to remember to change these values in your title names every time. You can play with the pressure level to look at upper level winds or lower level winds."
   ]
  },
  {
   "cell_type": "code",
   "execution_count": null,
   "id": "d42684c4-95d5-4064-8a91-7d8cb03bfd63",
   "metadata": {},
   "outputs": [],
   "source": [
    "# set a specific pressure level\n",
    "set_level = 300\n",
    "\n",
    "# set u and v variables equal to our datasets selected by one timestep and one level\n",
    "u = ds_u['u'].sel(time='2023-04-1T00:00:00.000000000').sel(level=set_level)\n",
    "v = ds_v['v'].sel(time='2023-04-1T00:00:00.000000000').sel(level=set_level)\n",
    "\n",
    "# print out the data array information to ensure everything looks as it should\n",
    "u"
   ]
  },
  {
   "cell_type": "markdown",
   "id": "f9bc7081-aef2-477c-a464-07fb91f7cc85",
   "metadata": {},
   "source": [
    "### Calculate Divergence\n",
    "Horizontal wind divergence is the gradient of the wind. Fortunately, there is a nice divergence function within the MetPy library, so you do not need to make a custom function. This function takes u and v winds as the first two default arguments. You will input the name of your u and v wind variables in that order within the function."
   ]
  },
  {
   "cell_type": "code",
   "execution_count": null,
   "id": "a5ef4323-95fe-47ed-9825-b40ad6e1b7b8",
   "metadata": {},
   "outputs": [],
   "source": [
    "# metpy divergence function takes the u and v winds as arguments\n",
    "\n",
    "wind_div = mpcalc.divergence(u, v)"
   ]
  },
  {
   "cell_type": "markdown",
   "id": "64c5574f-ace7-46ab-aa78-caf9dfe15cc4",
   "metadata": {},
   "source": [
    "### Cartopy Plotting\n",
    "To plot our divergence field and wind barbs, we need to create a Cartopy basemap by adding a projection and features."
   ]
  },
  {
   "cell_type": "code",
   "execution_count": null,
   "id": "b617c296-1c7d-4a4c-8bb9-225a9c54ab48",
   "metadata": {},
   "outputs": [],
   "source": [
    "# defines projection of the basemap\n",
    "ax = plt.axes(projection=ccrs.PlateCarree())\n",
    "\n",
    "# adds features to the basemap, including: land surfaces, ocean, coastlines, country borders, and US states\n",
    "ax.add_feature(cp.feature.LAND)\n",
    "ax.add_feature(cp.feature.OCEAN)\n",
    "ax.add_feature(cp.feature.COASTLINE)\n",
    "ax.add_feature(cp.feature.BORDERS)\n",
    "ax.add_feature(cp.feature.STATES, linewidth=0.5)\n",
    "\n",
    "# displays the plot\n",
    "plt.show()"
   ]
  },
  {
   "cell_type": "markdown",
   "id": "6f9c6206-7ebf-4247-9307-31fd612f8b97",
   "metadata": {},
   "source": [
    "### Plot the Divergence\n",
    "Next we plot our calculated divergence over this basemap. We need to define the latitude and longitude of the plot, so it will be easy to call out the longitude and latitude values within one of our wind datasets: u.longitude and u.latitude. We also need to have a color bar with a label by using plt.colorbar(). A divergent colorbar would be idea for this situation given that we are looking at divergence / convergence, so we can set that using cmap and CenteredNorm."
   ]
  },
  {
   "cell_type": "code",
   "execution_count": null,
   "id": "07582893-9aeb-4c67-abab-102d349ae7a3",
   "metadata": {},
   "outputs": [],
   "source": [
    "ax = plt.axes(projection=ccrs.PlateCarree())\n",
    "ax.add_feature(cp.feature.LAND)\n",
    "ax.add_feature(cp.feature.OCEAN)\n",
    "ax.add_feature(cp.feature.COASTLINE)\n",
    "ax.add_feature(cp.feature.BORDERS)\n",
    "ax.add_feature(cp.feature.STATES, linewidth=0.5)\n",
    "\n",
    "# plots wind divergence with lat / lon values from u wind dataset\n",
    "# sets centered blue to white to red colorbar with a label\n",
    "c = ax.pcolormesh(u.longitude, u.latitude, wind_div, norm=colors.CenteredNorm(), cmap='bwr')\n",
    "plt.colorbar(c, label=r'Wind Divergence $s^-1$')\n",
    "\n",
    "plt.show()"
   ]
  },
  {
   "cell_type": "markdown",
   "id": "2931ed10-c00f-412f-93e8-841884a1b302",
   "metadata": {},
   "source": [
    "### Set Extent of Plot\n",
    "Next we would like to zoom in to one area of our plot to look closely at the divergence field in a smaller region. We'll use set_extent() to set longitude followed by latitude values, and need to define our projection as well. The date for this sample dataset is 4.1.2023 00Z, when a strong storm system moved through the midwest. So we will set latitude and longitude bounds to focus on this area.\n",
    "\n",
    "We can also set a title using r and f strings to use LaTeX functions for the units and the set_level variable for automatically naming our plot based on the chosen pressure level."
   ]
  },
  {
   "cell_type": "code",
   "execution_count": null,
   "id": "d792770c-fe59-4a5d-917d-2f5b4f0b7bad",
   "metadata": {},
   "outputs": [],
   "source": [
    "ax = plt.axes(projection=ccrs.PlateCarree())\n",
    "ax.add_feature(cp.feature.LAND)\n",
    "ax.add_feature(cp.feature.OCEAN)\n",
    "ax.add_feature(cp.feature.COASTLINE)\n",
    "ax.add_feature(cp.feature.BORDERS)\n",
    "ax.add_feature(cp.feature.STATES, linewidth=0.5)\n",
    "\n",
    "c = ax.pcolormesh(u.longitude, u.latitude, wind_div, norm=colors.CenteredNorm(), cmap='bwr')\n",
    "plt.colorbar(c, label=r'Wind Divergence $s^-1$')\n",
    "\n",
    "# sets the title using r for LaTeX functions to do the units and f string for adding the set_level variable\n",
    "ax.set_title(rf'Horizontal Wind Divergence at {set_level} $hPa$')\n",
    "\n",
    "# sets the extent of the map to zoom in on the Midwest US\n",
    "ax.set_extent([-80, -105, 25, 47], crs=ccrs.PlateCarree())\n",
    "\n",
    "plt.show()"
   ]
  },
  {
   "cell_type": "markdown",
   "id": "693b3226-56b4-4731-8423-c0b11c24f9eb",
   "metadata": {},
   "source": [
    "### Plot Windbarbs\n",
    "Now we want to plot the windbarbs over the divergence field. Matplotlib has a barbs function that takes the longitude, latitude, u, and v winds as arguments in that order. We'll use the lat lon values from the u wind dataset again and just call u and v for our winds. Note that if you run this plot as is, the entire plot will be filled with wind barbs, since the grid is too dense at this scale to appropriately show the barbs."
   ]
  },
  {
   "cell_type": "code",
   "execution_count": null,
   "id": "62b396a9-a29e-4c46-a50e-53ef6b5ebfb3",
   "metadata": {},
   "outputs": [],
   "source": [
    "ax = plt.axes(projection=ccrs.PlateCarree())\n",
    "ax.add_feature(cp.feature.LAND)\n",
    "ax.add_feature(cp.feature.OCEAN)\n",
    "ax.add_feature(cp.feature.COASTLINE)\n",
    "ax.add_feature(cp.feature.BORDERS)\n",
    "ax.add_feature(cp.feature.STATES, linewidth=0.5)\n",
    "\n",
    "c = ax.pcolormesh(u.longitude, u.latitude, wind_div, norm=colors.CenteredNorm(), cmap='bwr')\n",
    "plt.colorbar(c, label=r'Wind Divergence $s^-1$')\n",
    "\n",
    "ax.set_title(rf'Horizontal Wind Divergence at {set_level} $hPa$')\n",
    "ax.set_extent([-80, -105, 25, 47], crs=ccrs.PlateCarree())\n",
    "\n",
    "# plots wind barbs\n",
    "plt.barbs(u.longitude, u.latitude, u, v)\n",
    "\n",
    "plt.show()"
   ]
  },
  {
   "cell_type": "markdown",
   "id": "7d4c1935-d832-41ac-be5d-42ab7cbaf50e",
   "metadata": {},
   "source": [
    "### Fix Windbarb Density\n",
    "We can fix the windbarb density by skipping every blank interval. We can set a skip variable to play with, and then skip by that interval for the latitude, longitude, u, and v wind."
   ]
  },
  {
   "cell_type": "code",
   "execution_count": null,
   "id": "68512886-8da4-49c3-9248-c9698919d350",
   "metadata": {},
   "outputs": [],
   "source": [
    "ax = plt.axes(projection=ccrs.PlateCarree())\n",
    "ax.add_feature(cp.feature.LAND)\n",
    "ax.add_feature(cp.feature.OCEAN)\n",
    "ax.add_feature(cp.feature.COASTLINE)\n",
    "ax.add_feature(cp.feature.BORDERS)\n",
    "ax.add_feature(cp.feature.STATES, linewidth=0.5)\n",
    "\n",
    "c = ax.pcolormesh(u.longitude, u.latitude, wind_div, norm=colors.CenteredNorm(), cmap='bwr')\n",
    "plt.colorbar(c, label=r'Wind Divergence $s^-1$')\n",
    "\n",
    "ax.set_title(rf'Horizontal Wind Divergence at {set_level} $hPa$')\n",
    "ax.set_extent([-80, -105, 25, 47], crs=ccrs.PlateCarree())\n",
    "\n",
    "skip = 7\n",
    "plt.barbs(u.longitude[::skip], u.latitude[::skip], u[::skip, ::skip], v[::skip, ::skip])\n",
    "\n",
    "plt.show()"
   ]
  }
 ],
 "metadata": {
  "kernelspec": {
   "display_name": "Python [conda env:pyEAE]",
   "language": "python",
   "name": "conda-env-pyEAE-py"
  },
  "language_info": {
   "codemirror_mode": {
    "name": "ipython",
    "version": 3
   },
   "file_extension": ".py",
   "mimetype": "text/x-python",
   "name": "python",
   "nbconvert_exporter": "python",
   "pygments_lexer": "ipython3",
   "version": "3.9.13"
  }
 },
 "nbformat": 4,
 "nbformat_minor": 5
}
